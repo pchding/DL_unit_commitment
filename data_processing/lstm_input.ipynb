{
 "cells": [
  {
   "cell_type": "code",
   "execution_count": 1,
   "metadata": {},
   "outputs": [],
   "source": [
    "\n",
    "import pandas as pd\n",
    "import numpy as np"
   ]
  },
  {
   "cell_type": "code",
   "execution_count": 6,
   "metadata": {},
   "outputs": [],
   "source": [
    "load = pd.read_csv(\"demand_30_raw.csv\")\n",
    "wind = pd.read_csv(\"wind_30_raw.csv\")\n",
    "load['Nday'] = load['Day']\n",
    "wind['Nday'] = wind['Day']"
   ]
  },
  {
   "cell_type": "code",
   "execution_count": 7,
   "metadata": {},
   "outputs": [],
   "source": [
    "months = load.Month.unique()\n",
    "months = months[1:]\n",
    "db = 0\n",
    "for m in months:\n",
    "    db += max(load[load.Month == (m-1)].Day)\n",
    "    load.loc[load.Month == m,'Nday'] = load[load.Month == (m)].Day + db\n",
    "\n",
    "months = wind.Month.unique()\n",
    "months = months[1:]\n",
    "db = 0\n",
    "for m in months:\n",
    "    db += max(wind[wind.Month == (m-1)].Day)\n",
    "    wind.loc[wind.Month == m,'Nday'] = wind[wind.Month == (m)].Day + db\n"
   ]
  },
  {
   "cell_type": "code",
   "execution_count": 22,
   "metadata": {},
   "outputs": [],
   "source": [
    "wind0 = wind.loc[:,['Nday','309_WIND_1', '317_WIND_1','303_WIND_1', '122_WIND_1']]\n",
    "load0 = load.loc[:,['1','2','3']]"
   ]
  },
  {
   "cell_type": "code",
   "execution_count": 26,
   "metadata": {},
   "outputs": [],
   "source": [
    "input0 = pd.concat([wind0,load0], axis = 1, sort = False)"
   ]
  },
  {
   "cell_type": "code",
   "execution_count": 28,
   "metadata": {},
   "outputs": [],
   "source": [
    "input0.index = 'd' + input0.Nday.astype('str')"
   ]
  },
  {
   "cell_type": "code",
   "execution_count": 30,
   "metadata": {},
   "outputs": [],
   "source": [
    "input0 = input0.drop(['Nday'], axis=1)"
   ]
  },
  {
   "cell_type": "code",
   "execution_count": 31,
   "metadata": {},
   "outputs": [],
   "source": [
    "input0.to_csv(\"inputrnn.csv\",index = True,header = True,na_rep=\"\")"
   ]
  }
 ],
 "metadata": {
  "kernelspec": {
   "display_name": "DL(WIN)",
   "language": "python",
   "name": "dl1"
  },
  "language_info": {
   "codemirror_mode": {
    "name": "ipython",
    "version": 3
   },
   "file_extension": ".py",
   "mimetype": "text/x-python",
   "name": "python",
   "nbconvert_exporter": "python",
   "pygments_lexer": "ipython3",
   "version": "3.7.2"
  }
 },
 "nbformat": 4,
 "nbformat_minor": 2
}
