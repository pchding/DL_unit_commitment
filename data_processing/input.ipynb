{
 "cells": [
  {
   "cell_type": "code",
   "execution_count": 1,
   "metadata": {},
   "outputs": [],
   "source": [
    "import pandas as pd"
   ]
  },
  {
   "cell_type": "code",
   "execution_count": 31,
   "metadata": {},
   "outputs": [],
   "source": [
    "load = pd.read_csv(\"demand_30_raw.csv\")\n",
    "wind = pd.read_csv(\"wind_30_raw.csv\")"
   ]
  },
  {
   "cell_type": "code",
   "execution_count": 32,
   "metadata": {},
   "outputs": [],
   "source": [
    "load['loadm'] = load.loc[:,['1','2','3']].mean(axis = 1)\n",
    "wind['windm'] = wind.loc[:,['309_WIND_1', '317_WIND_1',\n",
    "       '303_WIND_1', '122_WIND_1']].mean(axis = 1)\n",
    "load['Nday'] = load['Day']\n",
    "wind['Nday'] = wind['Day']"
   ]
  },
  {
   "cell_type": "code",
   "execution_count": 33,
   "metadata": {},
   "outputs": [],
   "source": [
    "months = load.Month.unique()\n",
    "months = months[1:]\n",
    "db = 0\n",
    "for m in months:\n",
    "    db += max(load[load.Month == (m-1)].Day)\n",
    "    load.loc[load.Month == m,'Nday'] = load[load.Month == (m)].Day + db\n"
   ]
  },
  {
   "cell_type": "code",
   "execution_count": 34,
   "metadata": {},
   "outputs": [],
   "source": [
    "months = wind.Month.unique()\n",
    "months = months[1:]\n",
    "db = 0\n",
    "for m in months:\n",
    "    db += max(wind[wind.Month == (m-1)].Day)\n",
    "    wind.loc[wind.Month == m,'Nday'] = wind[wind.Month == (m)].Day + db\n"
   ]
  },
  {
   "cell_type": "code",
   "execution_count": 91,
   "metadata": {},
   "outputs": [],
   "source": [
    "input0 = wind.loc[:,['Nday','Period','windm']]\n",
    "input1 = load.loc[:,['Nday','Period','loadm']]"
   ]
  },
  {
   "cell_type": "code",
   "execution_count": 92,
   "metadata": {},
   "outputs": [],
   "source": [
    "input0 = input0.pivot(index = 'Nday', columns = 'Period',values = 'windm')\n",
    "input1 = input1.pivot(index = 'Nday', columns = 'Period',values = 'loadm')"
   ]
  },
  {
   "cell_type": "code",
   "execution_count": 93,
   "metadata": {},
   "outputs": [],
   "source": [
    "input0.columns = 'ww' + input0.columns.astype(str)\n",
    "input1.columns = 'dd' + input1.columns.astype(str)"
   ]
  },
  {
   "cell_type": "code",
   "execution_count": 98,
   "metadata": {},
   "outputs": [],
   "source": [
    "inputf = pd.concat([input0,input1], axis = 1, sort = False)\n",
    "inputf.index = 'd' + inputf.index.astype(str)"
   ]
  },
  {
   "cell_type": "code",
   "execution_count": 99,
   "metadata": {},
   "outputs": [],
   "source": [
    "inputf.to_csv(\"inputf.csv\",index = True,header = True,na_rep=\"\")"
   ]
  }
 ],
 "metadata": {
  "kernelspec": {
   "display_name": "Python 3",
   "language": "python",
   "name": "python3"
  },
  "language_info": {
   "codemirror_mode": {
    "name": "ipython",
    "version": 3
   },
   "file_extension": ".py",
   "mimetype": "text/x-python",
   "name": "python",
   "nbconvert_exporter": "python",
   "pygments_lexer": "ipython3",
   "version": "3.7.3"
  }
 },
 "nbformat": 4,
 "nbformat_minor": 2
}
